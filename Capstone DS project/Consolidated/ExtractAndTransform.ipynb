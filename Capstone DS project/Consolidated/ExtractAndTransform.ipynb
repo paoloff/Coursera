{
 "cells": [
  {
   "cell_type": "markdown",
   "id": "0126027b",
   "metadata": {},
   "source": [
    "# SpaceX Falcon 9 First Stage Landing Prediction\n",
    "\n",
    "### Project Description\n",
    "\n",
    "In this project, the goal is to predict the probabiblity of success of a Falcon 9 landing event using data from previous launches. \n",
    "\n",
    "Example of a succesful landing:\n",
    "\n",
    "![](https://cf-courses-data.s3.us.cloud-object-storage.appdomain.cloud/IBMDeveloperSkillsNetwork-DS0701EN-SkillsNetwork/api/Images/landing_1.gif)\n",
    "\n",
    "And a a few unsuccesful ones:\n",
    "\n",
    "![](https://cf-courses-data.s3.us.cloud-object-storage.appdomain.cloud/IBMDeveloperSkillsNetwork-DS0701EN-SkillsNetwork/api/Images/crash.gif)\n",
    "\n",
    "\n",
    "In doing this project, we will execute some of the major steps in a Data Science pipeline, including:\n",
    "\n",
    "1. Data Extraction using RESTful APIs\n",
    "2. Data Extraction using Web Scrapping\n",
    "3. Data Transformation \n",
    "4. Data Visualization\n",
    "5. Training and comparing different Machine Learning models\n",
    "6. Building an interactive Dashboard with the results of the previous steps\n",
    "\n",
    "\n",
    "This project was done as the Final Project in IBM's Data Science Professional Certificate (2023)."
   ]
  },
  {
   "cell_type": "markdown",
   "id": "2c718144",
   "metadata": {},
   "source": [
    "## Part I: Extracting data from SpaceX webpage"
   ]
  },
  {
   "cell_type": "markdown",
   "id": "7bfbe41f",
   "metadata": {},
   "source": [
    "The main source for the launch data comes from SpaceX API in the form of JSON files. We will retrieve that data using requests calls from Python."
   ]
  },
  {
   "cell_type": "markdown",
   "id": "277a51ea",
   "metadata": {},
   "source": [
    "Importing regular libraries"
   ]
  },
  {
   "cell_type": "code",
   "execution_count": 1,
   "id": "d19257f7",
   "metadata": {},
   "outputs": [],
   "source": [
    "import requests\n",
    "import pandas as pd\n",
    "import numpy as np\n",
    "import datetime"
   ]
  },
  {
   "cell_type": "markdown",
   "id": "ac782c65",
   "metadata": {},
   "source": [
    "Get URL of SpaceX's API"
   ]
  },
  {
   "cell_type": "code",
   "execution_count": 2,
   "id": "a0c52950",
   "metadata": {},
   "outputs": [],
   "source": [
    "spacex_url=\"https://api.spacexdata.com/v4/launches/past\""
   ]
  },
  {
   "cell_type": "code",
   "execution_count": 3,
   "id": "207b4e35",
   "metadata": {},
   "outputs": [],
   "source": [
    "response = requests.get(spacex_url)"
   ]
  },
  {
   "cell_type": "markdown",
   "id": "7349cbf1",
   "metadata": {},
   "source": [
    "Prepare data into a JSON structure"
   ]
  },
  {
   "cell_type": "code",
   "execution_count": 4,
   "id": "af9fc3ca",
   "metadata": {},
   "outputs": [],
   "source": [
    "response_json = response.json()\n"
   ]
  },
  {
   "cell_type": "markdown",
   "id": "f6187f7c",
   "metadata": {},
   "source": [
    "Read JSON into Pandas dataframe"
   ]
  },
  {
   "cell_type": "code",
   "execution_count": 5,
   "id": "477c394d",
   "metadata": {},
   "outputs": [],
   "source": [
    "data = pd.json_normalize(response_json)"
   ]
  },
  {
   "cell_type": "code",
   "execution_count": 6,
   "id": "218c89a0",
   "metadata": {},
   "outputs": [
    {
     "data": {
      "text/html": [
       "<div>\n",
       "<style scoped>\n",
       "    .dataframe tbody tr th:only-of-type {\n",
       "        vertical-align: middle;\n",
       "    }\n",
       "\n",
       "    .dataframe tbody tr th {\n",
       "        vertical-align: top;\n",
       "    }\n",
       "\n",
       "    .dataframe thead th {\n",
       "        text-align: right;\n",
       "    }\n",
       "</style>\n",
       "<table border=\"1\" class=\"dataframe\">\n",
       "  <thead>\n",
       "    <tr style=\"text-align: right;\">\n",
       "      <th></th>\n",
       "      <th>static_fire_date_utc</th>\n",
       "      <th>static_fire_date_unix</th>\n",
       "      <th>net</th>\n",
       "      <th>window</th>\n",
       "      <th>rocket</th>\n",
       "      <th>success</th>\n",
       "      <th>failures</th>\n",
       "      <th>details</th>\n",
       "      <th>crew</th>\n",
       "      <th>ships</th>\n",
       "      <th>...</th>\n",
       "      <th>links.reddit.media</th>\n",
       "      <th>links.reddit.recovery</th>\n",
       "      <th>links.flickr.small</th>\n",
       "      <th>links.flickr.original</th>\n",
       "      <th>links.presskit</th>\n",
       "      <th>links.webcast</th>\n",
       "      <th>links.youtube_id</th>\n",
       "      <th>links.article</th>\n",
       "      <th>links.wikipedia</th>\n",
       "      <th>fairings</th>\n",
       "    </tr>\n",
       "  </thead>\n",
       "  <tbody>\n",
       "    <tr>\n",
       "      <th>0</th>\n",
       "      <td>2006-03-17T00:00:00.000Z</td>\n",
       "      <td>1.142554e+09</td>\n",
       "      <td>False</td>\n",
       "      <td>0.0</td>\n",
       "      <td>5e9d0d95eda69955f709d1eb</td>\n",
       "      <td>False</td>\n",
       "      <td>[{'time': 33, 'altitude': None, 'reason': 'mer...</td>\n",
       "      <td>Engine failure at 33 seconds and loss of vehicle</td>\n",
       "      <td>[]</td>\n",
       "      <td>[]</td>\n",
       "      <td>...</td>\n",
       "      <td>None</td>\n",
       "      <td>None</td>\n",
       "      <td>[]</td>\n",
       "      <td>[]</td>\n",
       "      <td>None</td>\n",
       "      <td>https://www.youtube.com/watch?v=0a_00nJ_Y88</td>\n",
       "      <td>0a_00nJ_Y88</td>\n",
       "      <td>https://www.space.com/2196-spacex-inaugural-fa...</td>\n",
       "      <td>https://en.wikipedia.org/wiki/DemoSat</td>\n",
       "      <td>NaN</td>\n",
       "    </tr>\n",
       "    <tr>\n",
       "      <th>1</th>\n",
       "      <td>None</td>\n",
       "      <td>NaN</td>\n",
       "      <td>False</td>\n",
       "      <td>0.0</td>\n",
       "      <td>5e9d0d95eda69955f709d1eb</td>\n",
       "      <td>False</td>\n",
       "      <td>[{'time': 301, 'altitude': 289, 'reason': 'har...</td>\n",
       "      <td>Successful first stage burn and transition to ...</td>\n",
       "      <td>[]</td>\n",
       "      <td>[]</td>\n",
       "      <td>...</td>\n",
       "      <td>None</td>\n",
       "      <td>None</td>\n",
       "      <td>[]</td>\n",
       "      <td>[]</td>\n",
       "      <td>None</td>\n",
       "      <td>https://www.youtube.com/watch?v=Lk4zQ2wP-Nc</td>\n",
       "      <td>Lk4zQ2wP-Nc</td>\n",
       "      <td>https://www.space.com/3590-spacex-falcon-1-roc...</td>\n",
       "      <td>https://en.wikipedia.org/wiki/DemoSat</td>\n",
       "      <td>NaN</td>\n",
       "    </tr>\n",
       "  </tbody>\n",
       "</table>\n",
       "<p>2 rows × 43 columns</p>\n",
       "</div>"
      ],
      "text/plain": [
       "       static_fire_date_utc  static_fire_date_unix    net  window  \\\n",
       "0  2006-03-17T00:00:00.000Z           1.142554e+09  False     0.0   \n",
       "1                      None                    NaN  False     0.0   \n",
       "\n",
       "                     rocket success  \\\n",
       "0  5e9d0d95eda69955f709d1eb   False   \n",
       "1  5e9d0d95eda69955f709d1eb   False   \n",
       "\n",
       "                                            failures  \\\n",
       "0  [{'time': 33, 'altitude': None, 'reason': 'mer...   \n",
       "1  [{'time': 301, 'altitude': 289, 'reason': 'har...   \n",
       "\n",
       "                                             details crew ships  ...  \\\n",
       "0   Engine failure at 33 seconds and loss of vehicle   []    []  ...   \n",
       "1  Successful first stage burn and transition to ...   []    []  ...   \n",
       "\n",
       "  links.reddit.media links.reddit.recovery links.flickr.small  \\\n",
       "0               None                  None                 []   \n",
       "1               None                  None                 []   \n",
       "\n",
       "   links.flickr.original links.presskit  \\\n",
       "0                     []           None   \n",
       "1                     []           None   \n",
       "\n",
       "                                 links.webcast  links.youtube_id  \\\n",
       "0  https://www.youtube.com/watch?v=0a_00nJ_Y88       0a_00nJ_Y88   \n",
       "1  https://www.youtube.com/watch?v=Lk4zQ2wP-Nc       Lk4zQ2wP-Nc   \n",
       "\n",
       "                                       links.article  \\\n",
       "0  https://www.space.com/2196-spacex-inaugural-fa...   \n",
       "1  https://www.space.com/3590-spacex-falcon-1-roc...   \n",
       "\n",
       "                         links.wikipedia  fairings  \n",
       "0  https://en.wikipedia.org/wiki/DemoSat       NaN  \n",
       "1  https://en.wikipedia.org/wiki/DemoSat       NaN  \n",
       "\n",
       "[2 rows x 43 columns]"
      ]
     },
     "execution_count": 6,
     "metadata": {},
     "output_type": "execute_result"
    }
   ],
   "source": [
    "data.head(2)"
   ]
  },
  {
   "cell_type": "markdown",
   "id": "2f2b84c0",
   "metadata": {},
   "source": [
    "Now that we have the full data on a single dataframe, let's clean it a little more.\n",
    "\n",
    "First, we will only keep the relevant column for the ML model, i.e., we should drops columns such as links or crew.\n",
    "\n",
    "Our model will only take into account details about the rocket, the payload, the orbit and the station."
   ]
  },
  {
   "cell_type": "code",
   "execution_count": 7,
   "id": "99c5b5e9",
   "metadata": {},
   "outputs": [],
   "source": [
    "# Take a subset of our dataframe keeping only the features we want and the flight number, and date_utc.\n",
    "data = data[['rocket', 'payloads', 'launchpad', 'cores', 'flight_number', 'date_utc']]\n",
    "\n",
    "# We will remove rows with multiple cores because those are falcon rockets with 2 extra rocket boosters and rows that have multiple payloads in a single rocket.\n",
    "data = data[data['cores'].map(len)==1]\n",
    "data = data[data['payloads'].map(len)==1]\n",
    "\n",
    "# Since payloads and cores are lists of size 1 we will also extract the single value in the list and replace the feature.\n",
    "data['cores'] = data['cores'].map(lambda x : x[0])\n",
    "data['payloads'] = data['payloads'].map(lambda x : x[0])\n",
    "\n",
    "# We also want to convert the date_utc to a datetime datatype and then extracting the date leaving the time\n",
    "data['date'] = pd.to_datetime(data['date_utc']).dt.date\n",
    "\n",
    "# Using the date we will restrict the dates of the launches\n",
    "data = data[data['date'] <= datetime.date(2020, 11, 13)]"
   ]
  },
  {
   "cell_type": "markdown",
   "id": "0e452d11",
   "metadata": {},
   "source": [
    "Using the rows of the table above, we will fetch data from SpaceX which are more specific and are contained on separate URL's.\n",
    "\n",
    "Each new piece of data will be stored in a separate list which will later be incorporated into a main table."
   ]
  },
  {
   "cell_type": "markdown",
   "id": "5c6c719f",
   "metadata": {},
   "source": [
    "**Extract Booster Version**\n",
    "\n",
    "Contains the name of the version of the booster used in the operation"
   ]
  },
  {
   "cell_type": "code",
   "execution_count": 8,
   "id": "e03172d8",
   "metadata": {},
   "outputs": [],
   "source": [
    "BoosterVersion = []\n",
    "\n",
    "for x in data['rocket']:\n",
    "    if x:\n",
    "        response = requests.get(\"https://api.spacexdata.com/v4/rockets/\"+str(x)).json()\n",
    "        BoosterVersion.append(response['name'])\n",
    "        "
   ]
  },
  {
   "cell_type": "markdown",
   "id": "851f2c94",
   "metadata": {},
   "source": [
    "**Extract Launch Site Name, Latitute and Longitude**"
   ]
  },
  {
   "cell_type": "markdown",
   "id": "8c78390f",
   "metadata": {},
   "source": [
    "Contains the name and location of the site used for take-off and landing"
   ]
  },
  {
   "cell_type": "code",
   "execution_count": 9,
   "id": "3a43187c",
   "metadata": {},
   "outputs": [],
   "source": [
    "LaunchSite = []\n",
    "Longitude = []\n",
    "Latitude = []\n",
    "\n",
    "for x in data['launchpad']:\n",
    "    if x:\n",
    "        response = requests.get(\"https://api.spacexdata.com/v4/launchpads/\"+str(x)).json()\n",
    "        Longitude.append(response['longitude'])\n",
    "        Latitude.append(response['latitude'])\n",
    "        LaunchSite.append(response['name'])\n"
   ]
  },
  {
   "cell_type": "markdown",
   "id": "0e5e70e2",
   "metadata": {},
   "source": [
    "**Extract Payload mass and Orbit name**"
   ]
  },
  {
   "cell_type": "markdown",
   "id": "1ca8b854",
   "metadata": {},
   "source": [
    "Contains the payload mass and the name of the orbit that the rocket went to"
   ]
  },
  {
   "cell_type": "code",
   "execution_count": 10,
   "id": "54f6eb01",
   "metadata": {},
   "outputs": [],
   "source": [
    "PayloadMass = []\n",
    "Orbit = []\n",
    "\n",
    "for load in data['payloads']:\n",
    "    if load:\n",
    "        response = requests.get(\"https://api.spacexdata.com/v4/payloads/\"+load).json()\n",
    "        PayloadMass.append(response['mass_kg'])\n",
    "        Orbit.append(response['orbit'])\n"
   ]
  },
  {
   "cell_type": "markdown",
   "id": "3a92b382",
   "metadata": {},
   "source": [
    "**Extract Data about the Core**"
   ]
  },
  {
   "cell_type": "markdown",
   "id": "0728ea7f",
   "metadata": {},
   "source": [
    "Various specifications about the rocket's core, including how many times it was used before and other technical data"
   ]
  },
  {
   "cell_type": "code",
   "execution_count": 11,
   "id": "f65514a4",
   "metadata": {},
   "outputs": [],
   "source": [
    "Block = []\n",
    "ReusedCount = []\n",
    "Serial = []\n",
    "Outcome = []\n",
    "Flights = []\n",
    "GridFins = []\n",
    "Reused = []\n",
    "Legs = []\n",
    "LandingPad = []\n",
    "\n",
    "\n",
    "for core in data['cores']:\n",
    "        if core['core'] != None:\n",
    "            response = requests.get(\"https://api.spacexdata.com/v4/cores/\"+core['core']).json()\n",
    "            Block.append(response['block'])\n",
    "            ReusedCount.append(response['reuse_count'])\n",
    "            Serial.append(response['serial'])\n",
    "        else:\n",
    "            Block.append(None)\n",
    "            ReusedCount.append(None)\n",
    "            Serial.append(None)\n",
    "        Outcome.append(str(core['landing_success'])+' '+str(core['landing_type']))\n",
    "        Flights.append(core['flight'])\n",
    "        GridFins.append(core['gridfins'])\n",
    "        Reused.append(core['reused'])\n",
    "        Legs.append(core['legs'])\n",
    "        LandingPad.append(core['landpad'])\n",
    "            \n"
   ]
  },
  {
   "cell_type": "markdown",
   "id": "105302c7",
   "metadata": {},
   "source": [
    "Finally, we incorporate the previous lists into a single table"
   ]
  },
  {
   "cell_type": "code",
   "execution_count": 12,
   "id": "19e6c691",
   "metadata": {},
   "outputs": [],
   "source": [
    "launch_dict = {'FlightNumber': list(data['flight_number']),\n",
    "'Date': list(data['date']),\n",
    "'BoosterVersion':BoosterVersion,\n",
    "'PayloadMass':PayloadMass,\n",
    "'Orbit':Orbit,\n",
    "'LaunchSite':LaunchSite,\n",
    "'Outcome':Outcome,\n",
    "'Flights':Flights,\n",
    "'GridFins':GridFins,\n",
    "'Reused':Reused,\n",
    "'Legs':Legs,\n",
    "'LandingPad':LandingPad,\n",
    "'Block':Block,\n",
    "'ReusedCount':ReusedCount,\n",
    "'Serial':Serial,\n",
    "'Longitude': Longitude,\n",
    "'Latitude': Latitude}"
   ]
  },
  {
   "cell_type": "code",
   "execution_count": 13,
   "id": "6e0fff92",
   "metadata": {},
   "outputs": [],
   "source": [
    "launch_df = pd.DataFrame(launch_dict)"
   ]
  },
  {
   "cell_type": "code",
   "execution_count": 14,
   "id": "4363751f",
   "metadata": {},
   "outputs": [
    {
     "data": {
      "text/html": [
       "<div>\n",
       "<style scoped>\n",
       "    .dataframe tbody tr th:only-of-type {\n",
       "        vertical-align: middle;\n",
       "    }\n",
       "\n",
       "    .dataframe tbody tr th {\n",
       "        vertical-align: top;\n",
       "    }\n",
       "\n",
       "    .dataframe thead th {\n",
       "        text-align: right;\n",
       "    }\n",
       "</style>\n",
       "<table border=\"1\" class=\"dataframe\">\n",
       "  <thead>\n",
       "    <tr style=\"text-align: right;\">\n",
       "      <th></th>\n",
       "      <th>FlightNumber</th>\n",
       "      <th>Date</th>\n",
       "      <th>BoosterVersion</th>\n",
       "      <th>PayloadMass</th>\n",
       "      <th>Orbit</th>\n",
       "      <th>LaunchSite</th>\n",
       "      <th>Outcome</th>\n",
       "      <th>Flights</th>\n",
       "      <th>GridFins</th>\n",
       "      <th>Reused</th>\n",
       "      <th>Legs</th>\n",
       "      <th>LandingPad</th>\n",
       "      <th>Block</th>\n",
       "      <th>ReusedCount</th>\n",
       "      <th>Serial</th>\n",
       "      <th>Longitude</th>\n",
       "      <th>Latitude</th>\n",
       "    </tr>\n",
       "  </thead>\n",
       "  <tbody>\n",
       "    <tr>\n",
       "      <th>0</th>\n",
       "      <td>1</td>\n",
       "      <td>2006-03-24</td>\n",
       "      <td>Falcon 1</td>\n",
       "      <td>20.0</td>\n",
       "      <td>LEO</td>\n",
       "      <td>Kwajalein Atoll</td>\n",
       "      <td>None None</td>\n",
       "      <td>1</td>\n",
       "      <td>False</td>\n",
       "      <td>False</td>\n",
       "      <td>False</td>\n",
       "      <td>None</td>\n",
       "      <td>NaN</td>\n",
       "      <td>0</td>\n",
       "      <td>Merlin1A</td>\n",
       "      <td>167.743129</td>\n",
       "      <td>9.047721</td>\n",
       "    </tr>\n",
       "    <tr>\n",
       "      <th>1</th>\n",
       "      <td>2</td>\n",
       "      <td>2007-03-21</td>\n",
       "      <td>Falcon 1</td>\n",
       "      <td>NaN</td>\n",
       "      <td>LEO</td>\n",
       "      <td>Kwajalein Atoll</td>\n",
       "      <td>None None</td>\n",
       "      <td>1</td>\n",
       "      <td>False</td>\n",
       "      <td>False</td>\n",
       "      <td>False</td>\n",
       "      <td>None</td>\n",
       "      <td>NaN</td>\n",
       "      <td>0</td>\n",
       "      <td>Merlin2A</td>\n",
       "      <td>167.743129</td>\n",
       "      <td>9.047721</td>\n",
       "    </tr>\n",
       "  </tbody>\n",
       "</table>\n",
       "</div>"
      ],
      "text/plain": [
       "   FlightNumber        Date BoosterVersion  PayloadMass Orbit  \\\n",
       "0             1  2006-03-24       Falcon 1         20.0   LEO   \n",
       "1             2  2007-03-21       Falcon 1          NaN   LEO   \n",
       "\n",
       "        LaunchSite    Outcome  Flights  GridFins  Reused   Legs LandingPad  \\\n",
       "0  Kwajalein Atoll  None None        1     False   False  False       None   \n",
       "1  Kwajalein Atoll  None None        1     False   False  False       None   \n",
       "\n",
       "   Block  ReusedCount    Serial   Longitude  Latitude  \n",
       "0    NaN            0  Merlin1A  167.743129  9.047721  \n",
       "1    NaN            0  Merlin2A  167.743129  9.047721  "
      ]
     },
     "execution_count": 14,
     "metadata": {},
     "output_type": "execute_result"
    }
   ],
   "source": [
    "launch_df.head(2)"
   ]
  },
  {
   "cell_type": "markdown",
   "id": "2d925c4b",
   "metadata": {},
   "source": [
    "Let's filter out the rows with Falcon 1 booster"
   ]
  },
  {
   "cell_type": "code",
   "execution_count": 15,
   "id": "53ba076f",
   "metadata": {},
   "outputs": [],
   "source": [
    "data_falcon9 = launch_df[launch_df['BoosterVersion']!='Falcon 1']"
   ]
  },
  {
   "cell_type": "markdown",
   "id": "009c942a",
   "metadata": {},
   "source": [
    "Now that we removed a group of rows, let's re-assign the flight number to make sure it goes in increments of 1"
   ]
  },
  {
   "cell_type": "code",
   "execution_count": 16,
   "id": "2c9713f7",
   "metadata": {},
   "outputs": [
    {
     "data": {
      "text/html": [
       "<div>\n",
       "<style scoped>\n",
       "    .dataframe tbody tr th:only-of-type {\n",
       "        vertical-align: middle;\n",
       "    }\n",
       "\n",
       "    .dataframe tbody tr th {\n",
       "        vertical-align: top;\n",
       "    }\n",
       "\n",
       "    .dataframe thead th {\n",
       "        text-align: right;\n",
       "    }\n",
       "</style>\n",
       "<table border=\"1\" class=\"dataframe\">\n",
       "  <thead>\n",
       "    <tr style=\"text-align: right;\">\n",
       "      <th></th>\n",
       "      <th>FlightNumber</th>\n",
       "      <th>Date</th>\n",
       "      <th>BoosterVersion</th>\n",
       "      <th>PayloadMass</th>\n",
       "      <th>Orbit</th>\n",
       "      <th>LaunchSite</th>\n",
       "      <th>Outcome</th>\n",
       "      <th>Flights</th>\n",
       "      <th>GridFins</th>\n",
       "      <th>Reused</th>\n",
       "      <th>Legs</th>\n",
       "      <th>LandingPad</th>\n",
       "      <th>Block</th>\n",
       "      <th>ReusedCount</th>\n",
       "      <th>Serial</th>\n",
       "      <th>Longitude</th>\n",
       "      <th>Latitude</th>\n",
       "    </tr>\n",
       "  </thead>\n",
       "  <tbody>\n",
       "    <tr>\n",
       "      <th>92</th>\n",
       "      <td>89</td>\n",
       "      <td>2020-10-24</td>\n",
       "      <td>Falcon 9</td>\n",
       "      <td>15600.0</td>\n",
       "      <td>VLEO</td>\n",
       "      <td>CCSFS SLC 40</td>\n",
       "      <td>True ASDS</td>\n",
       "      <td>3</td>\n",
       "      <td>True</td>\n",
       "      <td>True</td>\n",
       "      <td>True</td>\n",
       "      <td>5e9e3033383ecbb9e534e7cc</td>\n",
       "      <td>5.0</td>\n",
       "      <td>12</td>\n",
       "      <td>B1060</td>\n",
       "      <td>-80.577366</td>\n",
       "      <td>28.561857</td>\n",
       "    </tr>\n",
       "    <tr>\n",
       "      <th>93</th>\n",
       "      <td>90</td>\n",
       "      <td>2020-11-05</td>\n",
       "      <td>Falcon 9</td>\n",
       "      <td>3681.0</td>\n",
       "      <td>MEO</td>\n",
       "      <td>CCSFS SLC 40</td>\n",
       "      <td>True ASDS</td>\n",
       "      <td>1</td>\n",
       "      <td>True</td>\n",
       "      <td>False</td>\n",
       "      <td>True</td>\n",
       "      <td>5e9e3032383ecb6bb234e7ca</td>\n",
       "      <td>5.0</td>\n",
       "      <td>8</td>\n",
       "      <td>B1062</td>\n",
       "      <td>-80.577366</td>\n",
       "      <td>28.561857</td>\n",
       "    </tr>\n",
       "  </tbody>\n",
       "</table>\n",
       "</div>"
      ],
      "text/plain": [
       "    FlightNumber        Date BoosterVersion  PayloadMass Orbit    LaunchSite  \\\n",
       "92            89  2020-10-24       Falcon 9      15600.0  VLEO  CCSFS SLC 40   \n",
       "93            90  2020-11-05       Falcon 9       3681.0   MEO  CCSFS SLC 40   \n",
       "\n",
       "      Outcome  Flights  GridFins  Reused  Legs                LandingPad  \\\n",
       "92  True ASDS        3      True    True  True  5e9e3033383ecbb9e534e7cc   \n",
       "93  True ASDS        1      True   False  True  5e9e3032383ecb6bb234e7ca   \n",
       "\n",
       "    Block  ReusedCount Serial  Longitude   Latitude  \n",
       "92    5.0           12  B1060 -80.577366  28.561857  \n",
       "93    5.0            8  B1062 -80.577366  28.561857  "
      ]
     },
     "execution_count": 16,
     "metadata": {},
     "output_type": "execute_result"
    }
   ],
   "source": [
    "data_falcon9.loc[:,'FlightNumber'] = list(range(1, data_falcon9.shape[0]+1))\n",
    "data_falcon9.tail(2)"
   ]
  },
  {
   "cell_type": "markdown",
   "id": "4183c950",
   "metadata": {},
   "source": [
    "Noticing the occurrences of NaN values in the payload massses, we fill those out with the average value"
   ]
  },
  {
   "cell_type": "code",
   "execution_count": 17,
   "id": "e390be74",
   "metadata": {},
   "outputs": [],
   "source": [
    "# Calculate the mean value of PayloadMass column\n",
    "plmean = data_falcon9['PayloadMass'].mean()\n",
    "\n",
    "# Replace the np.nan values with its mean value\n",
    "data_falcon9.loc[:, 'PayloadMass'] = data_falcon9.loc[:, 'PayloadMass'].replace(np.nan, plmean)"
   ]
  },
  {
   "cell_type": "markdown",
   "id": "4b0d509b",
   "metadata": {},
   "source": [
    "Finally, we want to contruct a \"response variable\" which is 1 in the case of a succesful landing and 0 otherwise. This info is contained in the \"Outcome\" column.\n",
    "\n",
    "So, the first thing to do is to look at the possible values of the variable Outcome:"
   ]
  },
  {
   "cell_type": "code",
   "execution_count": 18,
   "id": "c79d4adc",
   "metadata": {},
   "outputs": [
    {
     "data": {
      "text/plain": [
       "array(['None None', 'False Ocean', 'True Ocean', 'False ASDS',\n",
       "       'None ASDS', 'True RTLS', 'True ASDS', 'False RTLS'], dtype=object)"
      ]
     },
     "execution_count": 18,
     "metadata": {},
     "output_type": "execute_result"
    }
   ],
   "source": [
    "pd.unique(data_falcon9['Outcome'])"
   ]
  },
  {
   "cell_type": "markdown",
   "id": "7c3359ab",
   "metadata": {},
   "source": [
    "Here, if the Outcome string contains True it means success, whereas if it contains None or False it means failure.\n",
    "\n",
    "So, we will define a new column Class mapping the values of Outcome to 0s or 1s."
   ]
  },
  {
   "cell_type": "code",
   "execution_count": 19,
   "id": "3aada46d",
   "metadata": {},
   "outputs": [
    {
     "name": "stderr",
     "output_type": "stream",
     "text": [
      "C:\\Users\\paolo\\AppData\\Local\\Temp\\ipykernel_22864\\2169108241.py:5: SettingWithCopyWarning: \n",
      "A value is trying to be set on a copy of a slice from a DataFrame.\n",
      "Try using .loc[row_indexer,col_indexer] = value instead\n",
      "\n",
      "See the caveats in the documentation: https://pandas.pydata.org/pandas-docs/stable/user_guide/indexing.html#returning-a-view-versus-a-copy\n",
      "  data_falcon9.loc[:,'Class'] = data_falcon9.loc[:,'Outcome'].map(get_class)\n"
     ]
    },
    {
     "data": {
      "text/html": [
       "<div>\n",
       "<style scoped>\n",
       "    .dataframe tbody tr th:only-of-type {\n",
       "        vertical-align: middle;\n",
       "    }\n",
       "\n",
       "    .dataframe tbody tr th {\n",
       "        vertical-align: top;\n",
       "    }\n",
       "\n",
       "    .dataframe thead th {\n",
       "        text-align: right;\n",
       "    }\n",
       "</style>\n",
       "<table border=\"1\" class=\"dataframe\">\n",
       "  <thead>\n",
       "    <tr style=\"text-align: right;\">\n",
       "      <th></th>\n",
       "      <th>FlightNumber</th>\n",
       "      <th>Date</th>\n",
       "      <th>BoosterVersion</th>\n",
       "      <th>PayloadMass</th>\n",
       "      <th>Orbit</th>\n",
       "      <th>LaunchSite</th>\n",
       "      <th>Outcome</th>\n",
       "      <th>Flights</th>\n",
       "      <th>GridFins</th>\n",
       "      <th>Reused</th>\n",
       "      <th>Legs</th>\n",
       "      <th>LandingPad</th>\n",
       "      <th>Block</th>\n",
       "      <th>ReusedCount</th>\n",
       "      <th>Serial</th>\n",
       "      <th>Longitude</th>\n",
       "      <th>Latitude</th>\n",
       "      <th>Class</th>\n",
       "    </tr>\n",
       "  </thead>\n",
       "  <tbody>\n",
       "    <tr>\n",
       "      <th>92</th>\n",
       "      <td>89</td>\n",
       "      <td>2020-10-24</td>\n",
       "      <td>Falcon 9</td>\n",
       "      <td>15600.0</td>\n",
       "      <td>VLEO</td>\n",
       "      <td>CCSFS SLC 40</td>\n",
       "      <td>True ASDS</td>\n",
       "      <td>3</td>\n",
       "      <td>True</td>\n",
       "      <td>True</td>\n",
       "      <td>True</td>\n",
       "      <td>5e9e3033383ecbb9e534e7cc</td>\n",
       "      <td>5.0</td>\n",
       "      <td>12</td>\n",
       "      <td>B1060</td>\n",
       "      <td>-80.577366</td>\n",
       "      <td>28.561857</td>\n",
       "      <td>1</td>\n",
       "    </tr>\n",
       "    <tr>\n",
       "      <th>93</th>\n",
       "      <td>90</td>\n",
       "      <td>2020-11-05</td>\n",
       "      <td>Falcon 9</td>\n",
       "      <td>3681.0</td>\n",
       "      <td>MEO</td>\n",
       "      <td>CCSFS SLC 40</td>\n",
       "      <td>True ASDS</td>\n",
       "      <td>1</td>\n",
       "      <td>True</td>\n",
       "      <td>False</td>\n",
       "      <td>True</td>\n",
       "      <td>5e9e3032383ecb6bb234e7ca</td>\n",
       "      <td>5.0</td>\n",
       "      <td>8</td>\n",
       "      <td>B1062</td>\n",
       "      <td>-80.577366</td>\n",
       "      <td>28.561857</td>\n",
       "      <td>1</td>\n",
       "    </tr>\n",
       "  </tbody>\n",
       "</table>\n",
       "</div>"
      ],
      "text/plain": [
       "    FlightNumber        Date BoosterVersion  PayloadMass Orbit    LaunchSite  \\\n",
       "92            89  2020-10-24       Falcon 9      15600.0  VLEO  CCSFS SLC 40   \n",
       "93            90  2020-11-05       Falcon 9       3681.0   MEO  CCSFS SLC 40   \n",
       "\n",
       "      Outcome  Flights  GridFins  Reused  Legs                LandingPad  \\\n",
       "92  True ASDS        3      True    True  True  5e9e3033383ecbb9e534e7cc   \n",
       "93  True ASDS        1      True   False  True  5e9e3032383ecb6bb234e7ca   \n",
       "\n",
       "    Block  ReusedCount Serial  Longitude   Latitude  Class  \n",
       "92    5.0           12  B1060 -80.577366  28.561857      1  \n",
       "93    5.0            8  B1062 -80.577366  28.561857      1  "
      ]
     },
     "execution_count": 19,
     "metadata": {},
     "output_type": "execute_result"
    }
   ],
   "source": [
    "def get_class(x):\n",
    "    if x in {'True Ocean', 'True RTLS', 'True ASDS'}: return 1\n",
    "    else: return 0\n",
    "\n",
    "data_falcon9.loc[:,'Class'] = data_falcon9.loc[:,'Outcome'].map(get_class)\n",
    "data_falcon9.tail(2)"
   ]
  },
  {
   "cell_type": "markdown",
   "id": "6c9ae390",
   "metadata": {},
   "source": [
    "And we are done! Let's export the dataframe to a CSV file that will be utilized later for data visualization"
   ]
  },
  {
   "cell_type": "code",
   "execution_count": 20,
   "id": "67c9248d",
   "metadata": {},
   "outputs": [],
   "source": [
    "data_falcon9.to_csv('dataset_api.csv', index=False)"
   ]
  },
  {
   "cell_type": "markdown",
   "id": "97a7a8ee",
   "metadata": {},
   "source": [
    "To use the columns which contain categorical data for machine learning, we will use one-hot encoding and store the values in a separate dataframe"
   ]
  },
  {
   "cell_type": "code",
   "execution_count": 21,
   "id": "f62fe6e7",
   "metadata": {},
   "outputs": [
    {
     "data": {
      "text/html": [
       "<div>\n",
       "<style scoped>\n",
       "    .dataframe tbody tr th:only-of-type {\n",
       "        vertical-align: middle;\n",
       "    }\n",
       "\n",
       "    .dataframe tbody tr th {\n",
       "        vertical-align: top;\n",
       "    }\n",
       "\n",
       "    .dataframe thead th {\n",
       "        text-align: right;\n",
       "    }\n",
       "</style>\n",
       "<table border=\"1\" class=\"dataframe\">\n",
       "  <thead>\n",
       "    <tr style=\"text-align: right;\">\n",
       "      <th></th>\n",
       "      <th>FlightNumber</th>\n",
       "      <th>PayloadMass</th>\n",
       "      <th>Flights</th>\n",
       "      <th>GridFins</th>\n",
       "      <th>Reused</th>\n",
       "      <th>Legs</th>\n",
       "      <th>Block</th>\n",
       "      <th>ReusedCount</th>\n",
       "      <th>Class</th>\n",
       "      <th>Orbit_ES-L1</th>\n",
       "      <th>...</th>\n",
       "      <th>Serial_B1048</th>\n",
       "      <th>Serial_B1049</th>\n",
       "      <th>Serial_B1050</th>\n",
       "      <th>Serial_B1051</th>\n",
       "      <th>Serial_B1054</th>\n",
       "      <th>Serial_B1056</th>\n",
       "      <th>Serial_B1058</th>\n",
       "      <th>Serial_B1059</th>\n",
       "      <th>Serial_B1060</th>\n",
       "      <th>Serial_B1062</th>\n",
       "    </tr>\n",
       "  </thead>\n",
       "  <tbody>\n",
       "    <tr>\n",
       "      <th>4</th>\n",
       "      <td>1</td>\n",
       "      <td>6123.547647</td>\n",
       "      <td>1</td>\n",
       "      <td>False</td>\n",
       "      <td>False</td>\n",
       "      <td>False</td>\n",
       "      <td>1.0</td>\n",
       "      <td>0</td>\n",
       "      <td>0</td>\n",
       "      <td>False</td>\n",
       "      <td>...</td>\n",
       "      <td>False</td>\n",
       "      <td>False</td>\n",
       "      <td>False</td>\n",
       "      <td>False</td>\n",
       "      <td>False</td>\n",
       "      <td>False</td>\n",
       "      <td>False</td>\n",
       "      <td>False</td>\n",
       "      <td>False</td>\n",
       "      <td>False</td>\n",
       "    </tr>\n",
       "    <tr>\n",
       "      <th>5</th>\n",
       "      <td>2</td>\n",
       "      <td>525.000000</td>\n",
       "      <td>1</td>\n",
       "      <td>False</td>\n",
       "      <td>False</td>\n",
       "      <td>False</td>\n",
       "      <td>1.0</td>\n",
       "      <td>0</td>\n",
       "      <td>0</td>\n",
       "      <td>False</td>\n",
       "      <td>...</td>\n",
       "      <td>False</td>\n",
       "      <td>False</td>\n",
       "      <td>False</td>\n",
       "      <td>False</td>\n",
       "      <td>False</td>\n",
       "      <td>False</td>\n",
       "      <td>False</td>\n",
       "      <td>False</td>\n",
       "      <td>False</td>\n",
       "      <td>False</td>\n",
       "    </tr>\n",
       "  </tbody>\n",
       "</table>\n",
       "<p>2 rows × 81 columns</p>\n",
       "</div>"
      ],
      "text/plain": [
       "   FlightNumber  PayloadMass  Flights  GridFins  Reused   Legs  Block  \\\n",
       "4             1  6123.547647        1     False   False  False    1.0   \n",
       "5             2   525.000000        1     False   False  False    1.0   \n",
       "\n",
       "   ReusedCount  Class  Orbit_ES-L1  ...  Serial_B1048  Serial_B1049  \\\n",
       "4            0      0        False  ...         False         False   \n",
       "5            0      0        False  ...         False         False   \n",
       "\n",
       "   Serial_B1050  Serial_B1051  Serial_B1054  Serial_B1056  Serial_B1058  \\\n",
       "4         False         False         False         False         False   \n",
       "5         False         False         False         False         False   \n",
       "\n",
       "   Serial_B1059  Serial_B1060  Serial_B1062  \n",
       "4         False         False         False  \n",
       "5         False         False         False  \n",
       "\n",
       "[2 rows x 81 columns]"
      ]
     },
     "execution_count": 21,
     "metadata": {},
     "output_type": "execute_result"
    }
   ],
   "source": [
    "features = data_falcon9[['FlightNumber', 'PayloadMass', 'Orbit', 'LaunchSite', 'Flights', 'GridFins', 'Reused', 'Legs', 'LandingPad', 'Block', 'ReusedCount', 'Serial','Class']]\n",
    "features_one_hot = pd.get_dummies(data=features,columns=['Orbit', 'LaunchSite', 'LandingPad','Serial'])\n",
    "features_one_hot.head(2)"
   ]
  },
  {
   "cell_type": "markdown",
   "id": "804a759f",
   "metadata": {},
   "source": [
    "Export the one-hot encoded dataframe as CSV file to be used for ML later"
   ]
  },
  {
   "cell_type": "code",
   "execution_count": 22,
   "id": "0877faba",
   "metadata": {},
   "outputs": [],
   "source": [
    "features_one_hot.to_csv('one_hot_df.csv', index=False)"
   ]
  },
  {
   "cell_type": "markdown",
   "id": "dcffb0b2",
   "metadata": {},
   "source": [
    "---\n"
   ]
  },
  {
   "cell_type": "markdown",
   "id": "22c818f6",
   "metadata": {},
   "source": [
    "## Part II: Web scrapping from Wikipedia using BeautifulSoup\n",
    "\n",
    "Even though we fetched data from the SpaceX API using requests calls, sometimes it is not as convenient to gather data in this way for a project. For example, sometimes the data you are looking for is spread over the internet in random websites.\n",
    "\n",
    "So, to simulate that, we will scrape data from thr Wikipedia's webpage of Falcon 9 launches. Since the data on Wikipedia is not as comprehensive as the data in the SpaceX database, it will not be used in the future steps of the project. The purpose here is to illustrate how web scraping could be implemented in a data pipeline."
   ]
  },
  {
   "cell_type": "code",
   "execution_count": 23,
   "id": "ab4df17c",
   "metadata": {},
   "outputs": [],
   "source": [
    "import sys\n",
    "import requests\n",
    "from bs4 import BeautifulSoup\n",
    "import unicodedata2\n",
    "import pandas as pd"
   ]
  },
  {
   "cell_type": "markdown",
   "id": "56a5326f",
   "metadata": {},
   "source": [
    "This is Wikipedia's webpage"
   ]
  },
  {
   "cell_type": "code",
   "execution_count": 24,
   "id": "d8cb1eba",
   "metadata": {},
   "outputs": [],
   "source": [
    "static_url = \"https://en.wikipedia.org/w/index.php?title=List_of_Falcon_9_and_Falcon_Heavy_launches&oldid=1027686922\""
   ]
  },
  {
   "cell_type": "markdown",
   "id": "8be180e1",
   "metadata": {},
   "source": [
    "We fetch the data as a raw html text file"
   ]
  },
  {
   "cell_type": "code",
   "execution_count": 25,
   "id": "a8cbdf7c",
   "metadata": {},
   "outputs": [
    {
     "data": {
      "text/plain": [
       "<title>List of Falcon 9 and Falcon Heavy launches - Wikipedia</title>"
      ]
     },
     "execution_count": 25,
     "metadata": {},
     "output_type": "execute_result"
    }
   ],
   "source": [
    "ob = requests.get(static_url)\n",
    "soup = BeautifulSoup(ob.text,'html')\n",
    "soup.title"
   ]
  },
  {
   "cell_type": "markdown",
   "id": "471accd4",
   "metadata": {},
   "source": [
    "Now we need to parse the html text using Beautiful Soup. The goal is to consolidate the data spread among various tables of the website into a single one.\n",
    "\n",
    "In order to define the column names of the consolidated table, we go to a specific table of the website by parsing all html \"table\" tags"
   ]
  },
  {
   "cell_type": "code",
   "execution_count": 26,
   "id": "a2be1318",
   "metadata": {},
   "outputs": [],
   "source": [
    "html_tables = soup.find_all('table')\n",
    "first_launch_table = html_tables[5]\n"
   ]
  },
  {
   "cell_type": "markdown",
   "id": "37116f4b",
   "metadata": {},
   "source": [
    "The following code extracts the column names from the header of the table \"first_launch_table\" and store them in a list"
   ]
  },
  {
   "cell_type": "code",
   "execution_count": 27,
   "id": "39837b8d",
   "metadata": {},
   "outputs": [],
   "source": [
    "column_names = []\n",
    "\n",
    "def extract_column_from_header(row):\n",
    "    \"\"\"\n",
    "    This function returns the landing status from the HTML table cell \n",
    "    Input: the  element of a table data cell extracts extra row\n",
    "    \"\"\"\n",
    "    if (row.br):\n",
    "        row.br.extract()\n",
    "    if row.a:\n",
    "        row.a.extract()\n",
    "    if row.sup:\n",
    "        row.sup.extract()\n",
    "        \n",
    "    colunm_name = ' '.join(row.contents)\n",
    "    \n",
    "    # Filter the digit and empty names\n",
    "    if not(colunm_name.strip().isdigit()):\n",
    "        colunm_name = colunm_name.strip()\n",
    "        return colunm_name \n",
    "    \n",
    "\n",
    "for column in first_launch_table.find_all('th'):\n",
    "    name = extract_column_from_header(column)\n",
    "    if name is not None and len(name) > 0:\n",
    "        column_names.append(extract_column_from_header(column))\n",
    "        "
   ]
  },
  {
   "cell_type": "markdown",
   "id": "645fd934",
   "metadata": {},
   "source": [
    "This is utils code to parse the date, time, landing status and mass from the table rows. It will be used in the next cell"
   ]
  },
  {
   "cell_type": "code",
   "execution_count": 28,
   "id": "d445ab9f",
   "metadata": {},
   "outputs": [],
   "source": [
    "def date_time(table_cells):\n",
    "    \"\"\"\n",
    "    This function returns the data and time from the HTML  table cell\n",
    "    Input: the  element of a table data cell extracts extra row\n",
    "    \"\"\"\n",
    "    return [data_time.strip() for data_time in list(table_cells.strings)][0:2]\n",
    "\n",
    "def landing_status(table_cells):\n",
    "    \"\"\"\n",
    "    This function returns the landing status from the HTML table cell \n",
    "    Input: the  element of a table data cell extracts extra row\n",
    "    \"\"\"\n",
    "    out=[i for i in table_cells.strings][0]\n",
    "    return out\n",
    "\n",
    "def get_mass(table_cells):\n",
    "    mass=unicodedata2.normalize(\"NFKD\", table_cells.text).strip()\n",
    "    if mass:\n",
    "        mass.find(\"kg\")\n",
    "        new_mass=mass[0:mass.find(\"kg\")+2]\n",
    "    else:\n",
    "        new_mass=0\n",
    "    return new_mass"
   ]
  },
  {
   "cell_type": "markdown",
   "id": "06a45d35",
   "metadata": {},
   "source": [
    "This is the code to extract the data in the column fields of the various tables and put them in a dictionary"
   ]
  },
  {
   "cell_type": "code",
   "execution_count": 29,
   "id": "adb48cc6",
   "metadata": {},
   "outputs": [],
   "source": [
    "extracted_row = 0\n",
    "\n",
    "launch_dict= dict.fromkeys(column_names)\n",
    "\n",
    "# Remove an irrelvant column\n",
    "del launch_dict['Date and time ( )']\n",
    "\n",
    "# Let's initiate the launch_dict with each value to be an empty list\n",
    "launch_dict['Flight No.'] = []\n",
    "launch_dict['Launch site'] = []\n",
    "launch_dict['Payload'] = []\n",
    "launch_dict['Payload mass'] = []\n",
    "launch_dict['Orbit'] = []\n",
    "launch_dict['Customer'] = []\n",
    "launch_dict['Launch outcome'] = []\n",
    "launch_dict['Serial'] = []\n",
    "launch_dict['Booster landing'] = []\n",
    "launch_dict['Date'] = []\n",
    "\n",
    "for table_number, table in enumerate(soup.find_all('table',\"wikitable plainrowheaders collapsible\")):\n",
    "\n",
    "    for rows in table.find_all(\"tr\"):\n",
    "\n",
    "        if rows.th:\n",
    "            if rows.th.string:\n",
    "                flight_number=rows.th.string.strip()\n",
    "                flag=flight_number.isdigit()\n",
    "        else:\n",
    "            flag=False\n",
    "        \n",
    "        row=rows.find_all('td')\n",
    "\n",
    "        if flag:\n",
    "            extracted_row += 1\n",
    "\n",
    "            launch_dict['Flight No.'].append(flight_number)\n",
    "            datatimelist=date_time(row[0])\n",
    "            date = datatimelist[0].strip(',')\n",
    "            launch_dict['Date'].append(date)\n",
    "\n",
    "            bv=row[1].find_all(string=True)\n",
    "            boost_version = [s for s in bv if s[0]=='B']\n",
    "            if len(boost_version) ==1:\n",
    "                launch_dict['Serial'].append(boost_version[0][0:5])\n",
    "            else:\n",
    "                launch_dict['Serial'].append(\"NS\")\n",
    "\n",
    "            launch_site = row[2].a.string\n",
    "            launch_dict['Launch site'].append(launch_site)\n",
    "\n",
    "            payload = row[3].a.string\n",
    "            launch_dict['Payload'].append(payload)\n",
    "\n",
    "            payload_mass = str(get_mass(row[4]))\n",
    "            payload_mass=payload_mass.replace(\"~\",\"\")\n",
    "            payload_mass=payload_mass.replace(\"kg\",\"\")\n",
    "            payload_mass=payload_mass.replace(\" \",\"\")\n",
    "            payload_mass=payload_mass.replace(\",\",\"\")\n",
    "            payload_mass=payload_mass.replace(\"C\",\"0\")\n",
    "            payload_mass=payload_mass.replace(\"5000–6000\",\"5500\")\n",
    "            launch_dict['Payload mass'].append(int(payload_mass))\n",
    "\n",
    "            orbit = row[5].a.string\n",
    "            launch_dict['Orbit'].append(orbit)\n",
    "            \n",
    "            if row[6].a is not None:\n",
    "                customer = row[6].a.string\n",
    "                launch_dict['Customer'].append(customer)\n",
    "\n",
    "            launch_outcome = list(row[7].strings)[0]\n",
    "            launch_dict['Launch outcome'].append(launch_outcome.replace(\"\\n\",\"\"))\n",
    "            \n",
    "            booster_landing = landing_status(row[8])\n",
    "            launch_dict['Booster landing'].append(booster_landing)\n",
    "\n"
   ]
  },
  {
   "cell_type": "markdown",
   "id": "69d3366e",
   "metadata": {},
   "source": [
    "Finally we transform the dictionary to a dataframe and take a look at it to make sure it looks ok"
   ]
  },
  {
   "cell_type": "code",
   "execution_count": 30,
   "id": "5f37f629",
   "metadata": {},
   "outputs": [
    {
     "data": {
      "text/html": [
       "<div>\n",
       "<style scoped>\n",
       "    .dataframe tbody tr th:only-of-type {\n",
       "        vertical-align: middle;\n",
       "    }\n",
       "\n",
       "    .dataframe tbody tr th {\n",
       "        vertical-align: top;\n",
       "    }\n",
       "\n",
       "    .dataframe thead th {\n",
       "        text-align: right;\n",
       "    }\n",
       "</style>\n",
       "<table border=\"1\" class=\"dataframe\">\n",
       "  <thead>\n",
       "    <tr style=\"text-align: right;\">\n",
       "      <th></th>\n",
       "      <th>Flight No.</th>\n",
       "      <th>Launch site</th>\n",
       "      <th>Payload</th>\n",
       "      <th>Payload mass</th>\n",
       "      <th>Orbit</th>\n",
       "      <th>Customer</th>\n",
       "      <th>Launch outcome</th>\n",
       "      <th>N/A</th>\n",
       "      <th>Serial</th>\n",
       "      <th>Booster landing</th>\n",
       "      <th>Date</th>\n",
       "    </tr>\n",
       "  </thead>\n",
       "  <tbody>\n",
       "    <tr>\n",
       "      <th>119</th>\n",
       "      <td>120</td>\n",
       "      <td>KSC</td>\n",
       "      <td>SpaceX CRS-22</td>\n",
       "      <td>3328</td>\n",
       "      <td>LEO</td>\n",
       "      <td>Sirius XM</td>\n",
       "      <td>Success</td>\n",
       "      <td>NaN</td>\n",
       "      <td>B1067</td>\n",
       "      <td>Success</td>\n",
       "      <td>2021-06-03</td>\n",
       "    </tr>\n",
       "    <tr>\n",
       "      <th>120</th>\n",
       "      <td>121</td>\n",
       "      <td>CCSFS</td>\n",
       "      <td>SXM-8</td>\n",
       "      <td>7000</td>\n",
       "      <td>GTO</td>\n",
       "      <td>NaN</td>\n",
       "      <td>Success</td>\n",
       "      <td>NaN</td>\n",
       "      <td>B1061</td>\n",
       "      <td>Success</td>\n",
       "      <td>2021-06-06</td>\n",
       "    </tr>\n",
       "  </tbody>\n",
       "</table>\n",
       "</div>"
      ],
      "text/plain": [
       "    Flight No. Launch site        Payload  Payload mass Orbit   Customer  \\\n",
       "119        120         KSC  SpaceX CRS-22          3328   LEO  Sirius XM   \n",
       "120        121       CCSFS          SXM-8          7000   GTO        NaN   \n",
       "\n",
       "    Launch outcome  N/A Serial Booster landing        Date  \n",
       "119        Success  NaN  B1067         Success  2021-06-03  \n",
       "120        Success  NaN  B1061         Success  2021-06-06  "
      ]
     },
     "execution_count": 30,
     "metadata": {},
     "output_type": "execute_result"
    }
   ],
   "source": [
    "df = pd.DataFrame({ key:pd.Series(value) for key, value in launch_dict.items() })\n",
    "df['Date'] = pd.to_datetime(df['Date']).dt.date\n",
    "df.tail(2)\n"
   ]
  },
  {
   "cell_type": "markdown",
   "id": "f124b588",
   "metadata": {},
   "source": [
    "We can then export the dataframe to a CSV file"
   ]
  },
  {
   "cell_type": "code",
   "execution_count": 31,
   "id": "55c01ebf",
   "metadata": {},
   "outputs": [],
   "source": [
    "df.to_csv('dataset_wiki.csv', index=False)"
   ]
  },
  {
   "cell_type": "code",
   "execution_count": null,
   "id": "cfe009c3",
   "metadata": {},
   "outputs": [],
   "source": []
  }
 ],
 "metadata": {
  "kernelspec": {
   "display_name": "Python 3 (ipykernel)",
   "language": "python",
   "name": "python3"
  },
  "language_info": {
   "codemirror_mode": {
    "name": "ipython",
    "version": 3
   },
   "file_extension": ".py",
   "mimetype": "text/x-python",
   "name": "python",
   "nbconvert_exporter": "python",
   "pygments_lexer": "ipython3",
   "version": "3.11.5"
  }
 },
 "nbformat": 4,
 "nbformat_minor": 5
}
